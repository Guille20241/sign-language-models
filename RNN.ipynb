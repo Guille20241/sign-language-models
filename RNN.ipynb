{
 "cells": [
  {
   "cell_type": "code",
   "execution_count": 10,
   "id": "a117513b",
   "metadata": {},
   "outputs": [],
   "source": [
    "import os\n",
    "import cv2\n",
    "import numpy as np\n",
    "from tensorflow.keras.models import Sequential\n",
    "from tensorflow.keras.layers import Conv2D, MaxPooling2D, Flatten, Dense, Dropout\n",
    "from tensorflow.keras.preprocessing.image import ImageDataGenerator\n",
    "from tensorflow.keras.utils import to_categorical\n",
    "import matplotlib.pyplot as plt\n",
    "from sklearn.neural_network import MLPClassifier"
   ]
  },
  {
   "cell_type": "code",
   "execution_count": 23,
   "id": "0eb4da33",
   "metadata": {},
   "outputs": [],
   "source": [
    "import sys\n",
    "\n",
    "# Añadir el directorio 'mi_modulo' al sys.path\n",
    "sys.path.append(os.path.abspath('./neural-processing'))\n",
    "\n",
    "# Ahora podemos importar mi_modulo\n",
    "from CNN import load_data, cnn_transform"
   ]
  },
  {
   "cell_type": "code",
   "execution_count": null,
   "id": "5761f43b",
   "metadata": {},
   "outputs": [],
   "source": [
    "# Cargar los datos de entrenamiento y prueba\n",
    "path = 'G:\\\\Mi unidad\\\\UP - Ingeniería de la información\\\\Semestre VII\\\\Machine Learning\\\\Trabajo Final\\\\'\n",
    "train_images, train_labels, classes = load_data(path + 'Train_Alphabet')\n",
    "test_images, test_labels, _ = load_data(path + 'Test_Alphabet')\n",
    "\n",
    "# Convertir las etiquetas a one-hot encoding\n",
    "train_labels = to_categorical(train_labels)\n",
    "test_labels = to_categorical(test_labels)"
   ]
  },
  {
   "cell_type": "code",
   "execution_count": null,
   "id": "3c5dab99",
   "metadata": {},
   "outputs": [],
   "source": [
    "class RNN:\n",
    "    def __init__ (self):\n",
    "        pass\n",
    "\n",
    "    def RNN_tf(cnn_model, x_train, y_train):\n",
    "    # modelo que de la parte densa\n",
    "        model = Sequential([\n",
    "            cnn_model,\n",
    "            Dense(512, activation='relu'),\n",
    "            Dense(256, activation='relu'),\n",
    "            Dense(10, activation='softmax')\n",
    "        ])\n",
    "\n",
    "        # Compilar el modelo\n",
    "        model.compile(optimizer='adam', loss='categorical_crossentropy', metrics=['accuracy'])\n",
    "\n",
    "        # Entrenar el modelo\n",
    "        model.fit(x_train, y_train, epochs=10, batch_size=32, validation_split=0.2)\n",
    "\n",
    "        # Evaluar el modelo\n",
    "        loss, accuracy = model.evaluate(x_test, y_test)\n",
    "        print(f'Pérdida en el conjunto de prueba: {loss}')\n",
    "        print(f'Precisión en el conjunto de prueba: {accuracy}')\n",
    "        return model, loss, accuracy\n",
    "\n",
    "\n",
    "    def RNN_sklearn(X_train_scaled, y_train):\n",
    "        # Definir y entrenar el modelo de Perceptrón Multicapa (MLP)\n",
    "        model = MLPClassifier(hidden_layer_sizes=(100, 50), activation='relu', max_iter=500, random_state=42)\n",
    "        model.fit(X_train_scaled, y_train)\n",
    "\n",
    "        # Realizar predicciones en el conjunto de prueba\n",
    "        y_pred = model.predict(X_test_scaled)\n",
    "\n",
    "        # Calcular la precisión (accuracy) del modelo\n",
    "        accuracy = accuracy_score(y_test, y_pred)\n",
    "\n",
    "        print(\"Precisión del modelo MLP: {:.2f}%\".format(accuracy * 100))\n",
    "        return model, accuracy"
   ]
  }
 ],
 "metadata": {
  "kernelspec": {
   "display_name": "Python 3 (ipykernel)",
   "language": "python",
   "name": "python3"
  },
  "language_info": {
   "codemirror_mode": {
    "name": "ipython",
    "version": 3
   },
   "file_extension": ".py",
   "mimetype": "text/x-python",
   "name": "python",
   "nbconvert_exporter": "python",
   "pygments_lexer": "ipython3",
   "version": "3.11.4"
  }
 },
 "nbformat": 4,
 "nbformat_minor": 5
}
